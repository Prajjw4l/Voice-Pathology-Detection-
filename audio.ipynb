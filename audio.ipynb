{
 "cells": [
  {
   "cell_type": "code",
   "execution_count": 34,
   "metadata": {},
   "outputs": [],
   "source": [
    "from scipy import signal\n",
    "import matplotlib.pyplot as plt\n",
    "import librosa\n",
    "import librosa.display\n",
    "import numpy as np\n",
    "\n",
    "overlap = 1024\n",
    "frame_length = 2048\n"
   ]
  },
  {
   "cell_type": "code",
   "execution_count": 58,
   "metadata": {},
   "outputs": [],
   "source": [
    "##Loading data"
   ]
  },
  {
   "cell_type": "code",
   "execution_count": 35,
   "metadata": {},
   "outputs": [],
   "source": [
    "from scipy.io import wavfile\n",
    "\n",
    "def readAudio(audio):\n",
    "    fs, amp = wavfile.read(audio)\n",
    "    dt = 1/fs\n",
    "    n = len(amp)\n",
    "    t = dt*n\n",
    "\n",
    "    if t > 1.0:\n",
    "        amp = amp[int((t/2 - 0.5)/dt):int((t/2 + 0.5)/dt)]\n",
    "        n = len(amp)\n",
    "        t = dt*n\n",
    "    \n",
    "    return(amp, fs, n, t)"
   ]
  },
  {
   "cell_type": "code",
   "execution_count": 36,
   "metadata": {},
   "outputs": [],
   "source": [
    "import json\n",
    "from scipy.io import wavfile\n",
    "import librosa\n",
    "import os\n",
    "\n",
    "\n",
    "def get_spectogram(amp, fs, n, t):\n",
    "    mfccs_features = librosa.feature.melspectrogram(y=amp*1.0, sr=fs, n_fft=frame_length, hop_length=overlap, power=1.0)\n",
    "    mfccs_scaled_features = np.mean(mfccs_features.T,axis=0)\n",
    "    \n",
    "    return mfccs_scaled_features\n",
    "\n",
    "\n",
    "def readAudio(audio):\n",
    "    fs, amp = wavfile.read(audio)\n",
    "    dt = 1 / fs\n",
    "    n = len(amp)\n",
    "    t = dt * n\n",
    "\n",
    "    if t > 1.0:\n",
    "        amp = amp[int((t / 2 - 0.5) / dt) : int((t / 2 + 0.5) / dt)]\n",
    "        n = len(amp)\n",
    "        t = dt * n\n",
    "\n",
    "    return (amp, fs, n, t)\n",
    "\n",
    "\n",
    "datadir = \"data\"\n",
    "fulldir = os.path.join(os.getcwd(), datadir)\n",
    "all_diseases = os.listdir(fulldir)\n",
    "\n",
    "for disease in all_diseases:\n",
    "    filepath = os.path.join(datadir, disease)\n",
    "    for filename in os.listdir(filepath):\n",
    "        if filename.endswith(\"wav\"):\n",
    "            fname = os.path.join(datadir, disease, filename)\n",
    "            amp, fs, n, t = readAudio(fname)\n",
    "            spectogram = list(get_spectogram(amp, fs, n, t))\n",
    "            name = os.path.join(\"data\", disease, filename.split(\".\")[0])\n",
    "            status = disease\n",
    "            with open(name + \".json\", \"w\") as f:\n",
    "                data = json.dumps(\n",
    "                    {\n",
    "                        \"spectogram\": spectogram,\n",
    "                        \"status\": status,\n",
    "                    },\n",
    "                )\n",
    "                f.write(data)"
   ]
  },
  {
   "cell_type": "code",
   "execution_count": 37,
   "metadata": {},
   "outputs": [
    {
     "name": "stdout",
     "output_type": "stream",
     "text": [
      "[[8.50187039e+01 2.31331329e+01 1.08422242e+01 ... 7.66225128e-02\n",
      "  7.62469166e-02 7.96878106e-02]\n",
      " [8.50187039e+01 2.31331329e+01 1.08422242e+01 ... 7.66225128e-02\n",
      "  7.62469166e-02 7.96878106e-02]\n",
      " [1.72901807e+01 5.52023835e+00 3.91344870e+00 ... 3.09657223e-02\n",
      "  2.73865739e-02 2.88062488e-02]\n",
      " ...\n",
      " [6.59347986e+01 3.20557703e+01 1.68428226e+01 ... 7.02197978e-02\n",
      "  6.96418193e-02 7.36294108e-02]\n",
      " [1.66434211e+01 5.59839348e+00 3.46945692e+00 ... 5.76294108e-02\n",
      "  5.89561284e-02 6.12257844e-02]\n",
      " [1.66434211e+01 5.59839348e+00 3.46945692e+00 ... 5.76294108e-02\n",
      "  5.89561284e-02 6.12257844e-02]]\n",
      "X shape:  (2216, 128) y shape:  (2216,)\n"
     ]
    }
   ],
   "source": [
    "datadir = 'data'\n",
    "fulldir = os.path.join(os.getcwd(), datadir)\n",
    "all_diseases = os.listdir(fulldir)\n",
    "\n",
    "dataset = []\n",
    "\n",
    "for disease in all_diseases:\n",
    "    filepath = os.path.join(datadir, disease)\n",
    "    for filename in os.listdir(filepath):\n",
    "        fpath = os.path.join(\"data\", disease, filename.split(\".\")[0] + \".json\")\n",
    "        with open(fpath, \"r\") as file:\n",
    "            person = json.load(file)\n",
    "            dataset.append(person)\n",
    "\n",
    "X = []\n",
    "y = []\n",
    "\n",
    "for person in dataset:\n",
    "    spectogram = person['spectogram']/np.float32(255) #normalize input pixels \n",
    "    status = person['status']\n",
    "    X.append(spectogram)\n",
    "    y.append(status)\n",
    "X = np.array(X)\n",
    "y = np.array(y)\n",
    "\n",
    "print(X)\n",
    "\n",
    "\n",
    "print('X shape: ', X.shape, 'y shape: ', y.shape)"
   ]
  },
  {
   "cell_type": "code",
   "execution_count": 38,
   "metadata": {},
   "outputs": [
    {
     "data": {
      "text/plain": [
       "(2216, 2)"
      ]
     },
     "execution_count": 38,
     "metadata": {},
     "output_type": "execute_result"
    }
   ],
   "source": [
    "import pandas as pd\n",
    "import tensorflow\n",
    "\n",
    "from tensorflow.keras import datasets, layers, models\n",
    "\n",
    "extracted_features_df=pd.DataFrame(dataset,columns=['spectogram','status'])\n",
    "extracted_features_df.shape"
   ]
  },
  {
   "cell_type": "code",
   "execution_count": 39,
   "metadata": {},
   "outputs": [
    {
     "data": {
      "text/plain": [
       "(2216, 128)"
      ]
     },
     "execution_count": 39,
     "metadata": {},
     "output_type": "execute_result"
    }
   ],
   "source": [
    "xx=np.array(extracted_features_df['spectogram'].tolist())\n",
    "y=np.array(extracted_features_df['status'].tolist())\n",
    "xx.shape"
   ]
  },
  {
   "cell_type": "code",
   "execution_count": 59,
   "metadata": {},
   "outputs": [],
   "source": [
    "#Data Divison "
   ]
  },
  {
   "cell_type": "code",
   "execution_count": 40,
   "metadata": {},
   "outputs": [
    {
     "name": "stdout",
     "output_type": "stream",
     "text": [
      "[[1. 0.]\n",
      " [1. 0.]\n",
      " [1. 0.]\n",
      " ...\n",
      " [0. 1.]\n",
      " [0. 1.]\n",
      " [0. 1.]]\n"
     ]
    }
   ],
   "source": [
    "from tensorflow.keras.utils import to_categorical\n",
    "from sklearn.preprocessing import LabelEncoder\n",
    "labelencoder=LabelEncoder()\n",
    "y=to_categorical(labelencoder.fit_transform(y))\n",
    "\n",
    "\n",
    "print(y)\n",
    "from sklearn.model_selection import train_test_split\n",
    "X_train,X_test,y_train,y_test=train_test_split(xx,y,test_size=0.2,stratify=y,random_state=0)"
   ]
  },
  {
   "cell_type": "code",
   "execution_count": 41,
   "metadata": {},
   "outputs": [
    {
     "data": {
      "text/plain": [
       "(1772, 128)"
      ]
     },
     "execution_count": 41,
     "metadata": {},
     "output_type": "execute_result"
    }
   ],
   "source": [
    "X_train.shape"
   ]
  },
  {
   "cell_type": "code",
   "execution_count": 42,
   "metadata": {},
   "outputs": [
    {
     "data": {
      "text/plain": [
       "(444, 128)"
      ]
     },
     "execution_count": 42,
     "metadata": {},
     "output_type": "execute_result"
    }
   ],
   "source": [
    "X_test.shape"
   ]
  },
  {
   "cell_type": "code",
   "execution_count": 43,
   "metadata": {},
   "outputs": [
    {
     "data": {
      "text/plain": [
       "(1772, 2)"
      ]
     },
     "execution_count": 43,
     "metadata": {},
     "output_type": "execute_result"
    }
   ],
   "source": [
    "y_train.shape"
   ]
  },
  {
   "cell_type": "code",
   "execution_count": 44,
   "metadata": {},
   "outputs": [
    {
     "data": {
      "text/plain": [
       "(444, 2)"
      ]
     },
     "execution_count": 44,
     "metadata": {},
     "output_type": "execute_result"
    }
   ],
   "source": [
    "y_test.shape"
   ]
  },
  {
   "cell_type": "markdown",
   "metadata": {},
   "source": [
    "##Model Creation  "
   ]
  },
  {
   "cell_type": "code",
   "execution_count": 45,
   "metadata": {},
   "outputs": [
    {
     "name": "stdout",
     "output_type": "stream",
     "text": [
      "2.8.0\n"
     ]
    }
   ],
   "source": [
    "import tensorflow as tf\n",
    "print(tf.__version__)"
   ]
  },
  {
   "cell_type": "code",
   "execution_count": 46,
   "metadata": {},
   "outputs": [],
   "source": [
    "from tensorflow.keras.models import Sequential\n",
    "from tensorflow.keras.layers import Dense,Dropout,Activation,Flatten\n",
    "from tensorflow.keras.optimizers import Adam\n",
    "from sklearn import metrics"
   ]
  },
  {
   "cell_type": "code",
   "execution_count": 47,
   "metadata": {},
   "outputs": [],
   "source": [
    "### No of disease\n",
    "num_labels=y.shape[1]"
   ]
  },
  {
   "cell_type": "code",
   "execution_count": 48,
   "metadata": {},
   "outputs": [],
   "source": [
    "model=Sequential()\n",
    "\n",
    "###first layer\n",
    "model.add(Dense(100,input_shape=(128,)))\n",
    "model.add(Activation('relu'))\n",
    "\n",
    "###second layer\n",
    "model.add(Dense(50))\n",
    "model.add(Activation('relu'))\n",
    "\n",
    "###final layer\n",
    "model.add(Dense(num_labels))\n",
    "model.add(Activation('softmax'))"
   ]
  },
  {
   "cell_type": "code",
   "execution_count": 49,
   "metadata": {},
   "outputs": [
    {
     "name": "stdout",
     "output_type": "stream",
     "text": [
      "Model: \"sequential_1\"\n",
      "_________________________________________________________________\n",
      " Layer (type)                Output Shape              Param #   \n",
      "=================================================================\n",
      " dense_3 (Dense)             (None, 100)               12900     \n",
      "                                                                 \n",
      " activation_3 (Activation)   (None, 100)               0         \n",
      "                                                                 \n",
      " dense_4 (Dense)             (None, 50)                5050      \n",
      "                                                                 \n",
      " activation_4 (Activation)   (None, 50)                0         \n",
      "                                                                 \n",
      " dense_5 (Dense)             (None, 2)                 102       \n",
      "                                                                 \n",
      " activation_5 (Activation)   (None, 2)                 0         \n",
      "                                                                 \n",
      "=================================================================\n",
      "Total params: 18,052\n",
      "Trainable params: 18,052\n",
      "Non-trainable params: 0\n",
      "_________________________________________________________________\n"
     ]
    }
   ],
   "source": [
    "model.summary()"
   ]
  },
  {
   "cell_type": "code",
   "execution_count": 60,
   "metadata": {},
   "outputs": [],
   "source": [
    "model.compile(loss='categorical_crossentropy',metrics=['accuracy'],optimizer='adam')"
   ]
  },
  {
   "cell_type": "code",
   "execution_count": 51,
   "metadata": {},
   "outputs": [
    {
     "name": "stdout",
     "output_type": "stream",
     "text": [
      "Epoch 1/100\n",
      "34/50 [===================>..........] - ETA: 0s - loss: 470.9094 - accuracy: 0.6351  \n",
      "Epoch 1: val_loss improved from inf to 248.62569, saving model to Desktop\\sbvoicedb_RdLu8Y.hdf5\n",
      "50/50 [==============================] - 0s 4ms/step - loss: 396.5645 - accuracy: 0.6455 - val_loss: 248.6257 - val_accuracy: 0.6854\n",
      "Epoch 2/100\n",
      "36/50 [====================>.........] - ETA: 0s - loss: 263.5741 - accuracy: 0.6293\n",
      "Epoch 2: val_loss improved from 248.62569 to 152.25256, saving model to Desktop\\sbvoicedb_RdLu8Y.hdf5\n",
      "50/50 [==============================] - 0s 2ms/step - loss: 241.7011 - accuracy: 0.6631 - val_loss: 152.2526 - val_accuracy: 0.7416\n",
      "Epoch 3/100\n",
      "42/50 [========================>.....] - ETA: 0s - loss: 113.8244 - accuracy: 0.7329\n",
      "Epoch 3: val_loss improved from 152.25256 to 86.66239, saving model to Desktop\\sbvoicedb_RdLu8Y.hdf5\n",
      "50/50 [==============================] - 0s 2ms/step - loss: 106.9144 - accuracy: 0.7415 - val_loss: 86.6624 - val_accuracy: 0.7191\n",
      "Epoch 4/100\n",
      "34/50 [===================>..........] - ETA: 0s - loss: 59.3859 - accuracy: 0.7537\n",
      "Epoch 4: val_loss improved from 86.66239 to 77.32079, saving model to Desktop\\sbvoicedb_RdLu8Y.hdf5\n",
      "50/50 [==============================] - 0s 2ms/step - loss: 61.3431 - accuracy: 0.7440 - val_loss: 77.3208 - val_accuracy: 0.7472\n",
      "Epoch 5/100\n",
      "48/50 [===========================>..] - ETA: 0s - loss: 61.3392 - accuracy: 0.7279\n",
      "Epoch 5: val_loss improved from 77.32079 to 53.34301, saving model to Desktop\\sbvoicedb_RdLu8Y.hdf5\n",
      "50/50 [==============================] - 0s 2ms/step - loss: 60.1095 - accuracy: 0.7321 - val_loss: 53.3430 - val_accuracy: 0.7528\n",
      "Epoch 6/100\n",
      "37/50 [=====================>........] - ETA: 0s - loss: 52.4601 - accuracy: 0.7618\n",
      "Epoch 6: val_loss did not improve from 53.34301\n",
      "50/50 [==============================] - 0s 2ms/step - loss: 49.6350 - accuracy: 0.7604 - val_loss: 66.3750 - val_accuracy: 0.6685\n",
      "Epoch 7/100\n",
      "48/50 [===========================>..] - ETA: 0s - loss: 37.3534 - accuracy: 0.7747\n",
      "Epoch 7: val_loss did not improve from 53.34301\n",
      "50/50 [==============================] - 0s 2ms/step - loss: 38.0352 - accuracy: 0.7735 - val_loss: 67.3678 - val_accuracy: 0.6854\n",
      "Epoch 8/100\n",
      "33/50 [==================>...........] - ETA: 0s - loss: 39.9563 - accuracy: 0.7652\n",
      "Epoch 8: val_loss did not improve from 53.34301\n",
      "50/50 [==============================] - 0s 2ms/step - loss: 39.5725 - accuracy: 0.7654 - val_loss: 61.4037 - val_accuracy: 0.7640\n",
      "Epoch 9/100\n",
      "33/50 [==================>...........] - ETA: 0s - loss: 27.1368 - accuracy: 0.8040\n",
      "Epoch 9: val_loss improved from 53.34301 to 40.15531, saving model to Desktop\\sbvoicedb_RdLu8Y.hdf5\n",
      "50/50 [==============================] - 0s 2ms/step - loss: 26.4649 - accuracy: 0.8030 - val_loss: 40.1553 - val_accuracy: 0.8034\n",
      "Epoch 10/100\n",
      "37/50 [=====================>........] - ETA: 0s - loss: 26.3856 - accuracy: 0.7973\n",
      "Epoch 10: val_loss did not improve from 40.15531\n",
      "50/50 [==============================] - 0s 2ms/step - loss: 33.3351 - accuracy: 0.7917 - val_loss: 67.6486 - val_accuracy: 0.7303\n",
      "Epoch 11/100\n",
      "32/50 [==================>...........] - ETA: 0s - loss: 32.8037 - accuracy: 0.8115\n",
      "Epoch 11: val_loss did not improve from 40.15531\n",
      "50/50 [==============================] - 0s 2ms/step - loss: 33.2900 - accuracy: 0.7961 - val_loss: 46.2893 - val_accuracy: 0.7528\n",
      "Epoch 12/100\n",
      "39/50 [======================>.......] - ETA: 0s - loss: 19.6556 - accuracy: 0.8309\n",
      "Epoch 12: val_loss improved from 40.15531 to 31.86055, saving model to Desktop\\sbvoicedb_RdLu8Y.hdf5\n",
      "50/50 [==============================] - 0s 2ms/step - loss: 21.3559 - accuracy: 0.8187 - val_loss: 31.8605 - val_accuracy: 0.8371\n",
      "Epoch 13/100\n",
      "34/50 [===================>..........] - ETA: 0s - loss: 18.9003 - accuracy: 0.8355\n",
      "Epoch 13: val_loss did not improve from 31.86055\n",
      "50/50 [==============================] - 0s 2ms/step - loss: 18.8417 - accuracy: 0.8338 - val_loss: 40.4103 - val_accuracy: 0.8427\n",
      "Epoch 14/100\n",
      "37/50 [=====================>........] - ETA: 0s - loss: 22.5381 - accuracy: 0.8226\n",
      "Epoch 14: val_loss did not improve from 31.86055\n",
      "50/50 [==============================] - 0s 2ms/step - loss: 20.4846 - accuracy: 0.8262 - val_loss: 38.0340 - val_accuracy: 0.8258\n",
      "Epoch 15/100\n",
      "33/50 [==================>...........] - ETA: 0s - loss: 20.4350 - accuracy: 0.8258\n",
      "Epoch 15: val_loss did not improve from 31.86055\n",
      "50/50 [==============================] - 0s 2ms/step - loss: 32.1613 - accuracy: 0.8036 - val_loss: 67.2085 - val_accuracy: 0.7416\n",
      "Epoch 16/100\n",
      "27/50 [===============>..............] - ETA: 0s - loss: 19.2748 - accuracy: 0.8438\n",
      "Epoch 16: val_loss did not improve from 31.86055\n",
      "50/50 [==============================] - 0s 2ms/step - loss: 19.3770 - accuracy: 0.8344 - val_loss: 39.6365 - val_accuracy: 0.7809\n",
      "Epoch 17/100\n",
      " 1/50 [..............................] - ETA: 0s - loss: 6.9509 - accuracy: 0.9062\n",
      "Epoch 17: val_loss did not improve from 31.86055\n",
      "50/50 [==============================] - 0s 1ms/step - loss: 27.2849 - accuracy: 0.8237 - val_loss: 45.6312 - val_accuracy: 0.7865\n",
      "Epoch 18/100\n",
      "48/50 [===========================>..] - ETA: 0s - loss: 20.4301 - accuracy: 0.8249\n",
      "Epoch 18: val_loss did not improve from 31.86055\n",
      "50/50 [==============================] - 0s 2ms/step - loss: 19.9287 - accuracy: 0.8281 - val_loss: 38.1679 - val_accuracy: 0.8034\n",
      "Epoch 19/100\n",
      "39/50 [======================>.......] - ETA: 0s - loss: 12.9430 - accuracy: 0.8638\n",
      "Epoch 19: val_loss did not improve from 31.86055\n",
      "50/50 [==============================] - 0s 2ms/step - loss: 15.9918 - accuracy: 0.8482 - val_loss: 64.8631 - val_accuracy: 0.7584\n",
      "Epoch 20/100\n",
      " 1/50 [..............................] - ETA: 0s - loss: 32.3689 - accuracy: 0.7812\n",
      "Epoch 20: val_loss did not improve from 31.86055\n",
      "50/50 [==============================] - 0s 2ms/step - loss: 18.1145 - accuracy: 0.8394 - val_loss: 42.2485 - val_accuracy: 0.8202\n",
      "Epoch 21/100\n",
      "36/50 [====================>.........] - ETA: 0s - loss: 20.5381 - accuracy: 0.8403\n",
      "Epoch 21: val_loss did not improve from 31.86055\n",
      "50/50 [==============================] - 0s 2ms/step - loss: 19.1303 - accuracy: 0.8450 - val_loss: 41.0239 - val_accuracy: 0.7753\n",
      "Epoch 22/100\n",
      "44/50 [=========================>....] - ETA: 0s - loss: 9.1246 - accuracy: 0.8736 \n",
      "Epoch 22: val_loss did not improve from 31.86055\n",
      "50/50 [==============================] - 0s 2ms/step - loss: 9.4686 - accuracy: 0.8752 - val_loss: 39.6698 - val_accuracy: 0.7865\n",
      "Epoch 23/100\n",
      "37/50 [=====================>........] - ETA: 0s - loss: 16.8417 - accuracy: 0.8497\n",
      "Epoch 23: val_loss improved from 31.86055 to 28.83889, saving model to Desktop\\sbvoicedb_RdLu8Y.hdf5\n",
      "50/50 [==============================] - 0s 3ms/step - loss: 16.6755 - accuracy: 0.8501 - val_loss: 28.8389 - val_accuracy: 0.8315\n",
      "Epoch 24/100\n",
      "27/50 [===============>..............] - ETA: 0s - loss: 14.0429 - accuracy: 0.8519\n",
      "Epoch 24: val_loss did not improve from 28.83889\n",
      "50/50 [==============================] - 0s 2ms/step - loss: 13.2787 - accuracy: 0.8545 - val_loss: 29.5054 - val_accuracy: 0.8202\n",
      "Epoch 25/100\n",
      "44/50 [=========================>....] - ETA: 0s - loss: 9.3502 - accuracy: 0.8949\n",
      "Epoch 25: val_loss improved from 28.83889 to 28.59204, saving model to Desktop\\sbvoicedb_RdLu8Y.hdf5\n",
      "50/50 [==============================] - 0s 2ms/step - loss: 10.0349 - accuracy: 0.8890 - val_loss: 28.5920 - val_accuracy: 0.8483\n",
      "Epoch 26/100\n",
      "45/50 [==========================>...] - ETA: 0s - loss: 11.6022 - accuracy: 0.8681\n",
      "Epoch 26: val_loss did not improve from 28.59204\n",
      "50/50 [==============================] - 0s 2ms/step - loss: 12.3661 - accuracy: 0.8632 - val_loss: 60.1571 - val_accuracy: 0.7472\n",
      "Epoch 27/100\n",
      "37/50 [=====================>........] - ETA: 0s - loss: 14.8793 - accuracy: 0.8471\n",
      "Epoch 27: val_loss did not improve from 28.59204\n",
      "50/50 [==============================] - 0s 2ms/step - loss: 13.2890 - accuracy: 0.8507 - val_loss: 33.6335 - val_accuracy: 0.8371\n",
      "Epoch 28/100\n",
      "43/50 [========================>.....] - ETA: 0s - loss: 8.0496 - accuracy: 0.8917\n",
      "Epoch 28: val_loss improved from 28.59204 to 25.86528, saving model to Desktop\\sbvoicedb_RdLu8Y.hdf5\n",
      "50/50 [==============================] - 0s 2ms/step - loss: 8.1446 - accuracy: 0.8890 - val_loss: 25.8653 - val_accuracy: 0.8876\n"
     ]
    },
    {
     "name": "stdout",
     "output_type": "stream",
     "text": [
      "Epoch 29/100\n",
      "44/50 [=========================>....] - ETA: 0s - loss: 8.7565 - accuracy: 0.8771\n",
      "Epoch 29: val_loss did not improve from 25.86528\n",
      "50/50 [==============================] - 0s 2ms/step - loss: 8.2598 - accuracy: 0.8833 - val_loss: 35.5899 - val_accuracy: 0.8427\n",
      "Epoch 30/100\n",
      "43/50 [========================>.....] - ETA: 0s - loss: 10.2896 - accuracy: 0.8772\n",
      "Epoch 30: val_loss did not improve from 25.86528\n",
      "50/50 [==============================] - 0s 2ms/step - loss: 10.5797 - accuracy: 0.8770 - val_loss: 37.8203 - val_accuracy: 0.8596\n",
      "Epoch 31/100\n",
      "43/50 [========================>.....] - ETA: 0s - loss: 6.0574 - accuracy: 0.9172\n",
      "Epoch 31: val_loss did not improve from 25.86528\n",
      "50/50 [==============================] - 0s 2ms/step - loss: 5.8656 - accuracy: 0.9166 - val_loss: 29.6399 - val_accuracy: 0.8427\n",
      "Epoch 32/100\n",
      "43/50 [========================>.....] - ETA: 0s - loss: 8.2708 - accuracy: 0.8953\n",
      "Epoch 32: val_loss did not improve from 25.86528\n",
      "50/50 [==============================] - 0s 2ms/step - loss: 7.7815 - accuracy: 0.9003 - val_loss: 29.4897 - val_accuracy: 0.8427\n",
      "Epoch 33/100\n",
      "37/50 [=====================>........] - ETA: 0s - loss: 8.8085 - accuracy: 0.8834    \n",
      "Epoch 33: val_loss did not improve from 25.86528\n",
      "50/50 [==============================] - 0s 2ms/step - loss: 9.4915 - accuracy: 0.8852 - val_loss: 28.4771 - val_accuracy: 0.8371\n",
      "Epoch 34/100\n",
      "38/50 [=====================>........] - ETA: 0s - loss: 12.9207 - accuracy: 0.8775\n",
      "Epoch 34: val_loss did not improve from 25.86528\n",
      "50/50 [==============================] - 0s 2ms/step - loss: 11.5035 - accuracy: 0.8871 - val_loss: 36.4394 - val_accuracy: 0.7921\n",
      "Epoch 35/100\n",
      "43/50 [========================>.....] - ETA: 0s - loss: 29.8441 - accuracy: 0.8009\n",
      "Epoch 35: val_loss did not improve from 25.86528\n",
      "50/50 [==============================] - 0s 2ms/step - loss: 28.8169 - accuracy: 0.8068 - val_loss: 38.3257 - val_accuracy: 0.8483\n",
      "Epoch 36/100\n",
      "45/50 [==========================>...] - ETA: 0s - loss: 21.2112 - accuracy: 0.8299\n",
      "Epoch 36: val_loss did not improve from 25.86528\n",
      "50/50 [==============================] - 0s 2ms/step - loss: 21.2464 - accuracy: 0.8287 - val_loss: 38.2326 - val_accuracy: 0.8258\n",
      "Epoch 37/100\n",
      "44/50 [=========================>....] - ETA: 0s - loss: 15.0598 - accuracy: 0.8615\n",
      "Epoch 37: val_loss did not improve from 25.86528\n",
      "50/50 [==============================] - 0s 2ms/step - loss: 15.3752 - accuracy: 0.8595 - val_loss: 29.5410 - val_accuracy: 0.8090\n",
      "Epoch 38/100\n",
      "47/50 [===========================>..] - ETA: 0s - loss: 19.9950 - accuracy: 0.8557\n",
      "Epoch 38: val_loss did not improve from 25.86528\n",
      "50/50 [==============================] - 0s 2ms/step - loss: 19.8369 - accuracy: 0.8545 - val_loss: 48.7683 - val_accuracy: 0.7360\n",
      "Epoch 39/100\n",
      " 1/50 [..............................] - ETA: 0s - loss: 34.2386 - accuracy: 0.7500\n",
      "Epoch 39: val_loss did not improve from 25.86528\n",
      "50/50 [==============================] - 0s 1ms/step - loss: 11.5137 - accuracy: 0.8890 - val_loss: 34.3156 - val_accuracy: 0.8427\n",
      "Epoch 40/100\n",
      " 1/50 [..............................] - ETA: 0s - loss: 5.9465 - accuracy: 0.8750\n",
      "Epoch 40: val_loss did not improve from 25.86528\n",
      "50/50 [==============================] - 0s 1ms/step - loss: 13.3896 - accuracy: 0.8689 - val_loss: 36.9647 - val_accuracy: 0.8146\n",
      "Epoch 41/100\n",
      "42/50 [========================>.....] - ETA: 0s - loss: 7.4927 - accuracy: 0.9033 \n",
      "Epoch 41: val_loss did not improve from 25.86528\n",
      "50/50 [==============================] - 0s 2ms/step - loss: 7.0272 - accuracy: 0.9040 - val_loss: 33.4296 - val_accuracy: 0.8146\n",
      "Epoch 42/100\n",
      "42/50 [========================>.....] - ETA: 0s - loss: 7.0518 - accuracy: 0.9010\n",
      "Epoch 42: val_loss improved from 25.86528 to 22.72184, saving model to Desktop\\sbvoicedb_RdLu8Y.hdf5\n",
      "50/50 [==============================] - 0s 2ms/step - loss: 6.3748 - accuracy: 0.9072 - val_loss: 22.7218 - val_accuracy: 0.8764\n",
      "Epoch 43/100\n",
      "43/50 [========================>.....] - ETA: 0s - loss: 4.4065 - accuracy: 0.9237\n",
      "Epoch 43: val_loss improved from 22.72184 to 20.11653, saving model to Desktop\\sbvoicedb_RdLu8Y.hdf5\n",
      "50/50 [==============================] - 0s 2ms/step - loss: 4.1998 - accuracy: 0.9266 - val_loss: 20.1165 - val_accuracy: 0.8820\n",
      "Epoch 44/100\n",
      "36/50 [====================>.........] - ETA: 0s - loss: 5.5731 - accuracy: 0.9089\n",
      "Epoch 44: val_loss improved from 20.11653 to 19.68861, saving model to Desktop\\sbvoicedb_RdLu8Y.hdf5\n",
      "50/50 [==============================] - 0s 2ms/step - loss: 6.4306 - accuracy: 0.9021 - val_loss: 19.6886 - val_accuracy: 0.9045\n",
      "Epoch 45/100\n",
      "40/50 [=======================>......] - ETA: 0s - loss: 9.6847 - accuracy: 0.8836\n",
      "Epoch 45: val_loss did not improve from 19.68861\n",
      "50/50 [==============================] - 0s 2ms/step - loss: 9.0288 - accuracy: 0.8883 - val_loss: 27.9591 - val_accuracy: 0.8652\n",
      "Epoch 46/100\n",
      " 1/50 [..............................] - ETA: 0s - loss: 6.9065 - accuracy: 0.9062\n",
      "Epoch 46: val_loss did not improve from 19.68861\n",
      "50/50 [==============================] - 0s 1ms/step - loss: 9.9224 - accuracy: 0.8890 - val_loss: 31.7439 - val_accuracy: 0.8371\n",
      "Epoch 47/100\n",
      "44/50 [=========================>....] - ETA: 0s - loss: 18.3922 - accuracy: 0.8487\n",
      "Epoch 47: val_loss did not improve from 19.68861\n",
      "50/50 [==============================] - 0s 2ms/step - loss: 17.8315 - accuracy: 0.8507 - val_loss: 39.9673 - val_accuracy: 0.7865\n",
      "Epoch 48/100\n",
      "44/50 [=========================>....] - ETA: 0s - loss: 6.4702 - accuracy: 0.9112\n",
      "Epoch 48: val_loss did not improve from 19.68861\n",
      "50/50 [==============================] - 0s 2ms/step - loss: 6.5103 - accuracy: 0.9103 - val_loss: 29.7193 - val_accuracy: 0.8146\n",
      "Epoch 49/100\n",
      "43/50 [========================>.....] - ETA: 0s - loss: 3.2668 - accuracy: 0.9419 \n",
      "Epoch 49: val_loss improved from 19.68861 to 17.75497, saving model to Desktop\\sbvoicedb_RdLu8Y.hdf5\n",
      "50/50 [==============================] - 0s 2ms/step - loss: 3.7373 - accuracy: 0.9360 - val_loss: 17.7550 - val_accuracy: 0.8708\n",
      "Epoch 50/100\n",
      "46/50 [==========================>...] - ETA: 0s - loss: 3.8193 - accuracy: 0.9361\n",
      "Epoch 50: val_loss did not improve from 17.75497\n",
      "50/50 [==============================] - 0s 2ms/step - loss: 3.9066 - accuracy: 0.9366 - val_loss: 19.4486 - val_accuracy: 0.8371\n",
      "Epoch 51/100\n",
      "36/50 [====================>.........] - ETA: 0s - loss: 4.4182 - accuracy: 0.9288\n",
      "Epoch 51: val_loss did not improve from 17.75497\n",
      "50/50 [==============================] - 0s 2ms/step - loss: 3.8125 - accuracy: 0.9316 - val_loss: 20.2145 - val_accuracy: 0.8708\n",
      "Epoch 52/100\n",
      " 1/50 [..............................] - ETA: 0s - loss: 1.7884 - accuracy: 0.9688\n",
      "Epoch 52: val_loss did not improve from 17.75497\n",
      "50/50 [==============================] - 0s 2ms/step - loss: 10.0803 - accuracy: 0.8915 - val_loss: 22.1500 - val_accuracy: 0.8258\n",
      "Epoch 53/100\n",
      "48/50 [===========================>..] - ETA: 0s - loss: 18.7126 - accuracy: 0.8633\n",
      "Epoch 53: val_loss did not improve from 17.75497\n",
      "50/50 [==============================] - 0s 2ms/step - loss: 18.1853 - accuracy: 0.8651 - val_loss: 30.2657 - val_accuracy: 0.8090\n",
      "Epoch 54/100\n",
      "38/50 [=====================>........] - ETA: 0s - loss: 13.7083 - accuracy: 0.8750\n",
      "Epoch 54: val_loss did not improve from 17.75497\n",
      "50/50 [==============================] - 0s 2ms/step - loss: 13.6725 - accuracy: 0.8726 - val_loss: 32.2768 - val_accuracy: 0.8708\n",
      "Epoch 55/100\n",
      "39/50 [======================>.......] - ETA: 0s - loss: 8.4985 - accuracy: 0.8958    \n",
      "Epoch 55: val_loss did not improve from 17.75497\n",
      "50/50 [==============================] - 0s 2ms/step - loss: 8.2281 - accuracy: 0.9009 - val_loss: 21.6632 - val_accuracy: 0.8596\n",
      "Epoch 56/100\n",
      " 1/50 [..............................] - ETA: 0s - loss: 0.0000e+00 - accuracy: 1.0000\n",
      "Epoch 56: val_loss improved from 17.75497 to 16.36482, saving model to Desktop\\sbvoicedb_RdLu8Y.hdf5\n",
      "50/50 [==============================] - 0s 2ms/step - loss: 4.6543 - accuracy: 0.9341 - val_loss: 16.3648 - val_accuracy: 0.8708\n",
      "Epoch 57/100\n",
      "44/50 [=========================>....] - ETA: 0s - loss: 1.7803 - accuracy: 0.9616\n",
      "Epoch 57: val_loss improved from 16.36482 to 15.07132, saving model to Desktop\\sbvoicedb_RdLu8Y.hdf5\n"
     ]
    },
    {
     "name": "stdout",
     "output_type": "stream",
     "text": [
      "50/50 [==============================] - 0s 2ms/step - loss: 1.6979 - accuracy: 0.9636 - val_loss: 15.0713 - val_accuracy: 0.8876\n",
      "Epoch 58/100\n",
      "42/50 [========================>.....] - ETA: 0s - loss: 2.4314 - accuracy: 0.9457\n",
      "Epoch 58: val_loss did not improve from 15.07132\n",
      "50/50 [==============================] - 0s 2ms/step - loss: 2.6036 - accuracy: 0.9454 - val_loss: 15.8305 - val_accuracy: 0.8652\n",
      "Epoch 59/100\n",
      "44/50 [=========================>....] - ETA: 0s - loss: 3.8437 - accuracy: 0.9339\n",
      "Epoch 59: val_loss did not improve from 15.07132\n",
      "50/50 [==============================] - 0s 2ms/step - loss: 4.0128 - accuracy: 0.9310 - val_loss: 17.9952 - val_accuracy: 0.8876\n",
      "Epoch 60/100\n",
      " 1/50 [..............................] - ETA: 0s - loss: 1.4011 - accuracy: 0.9688\n",
      "Epoch 60: val_loss did not improve from 15.07132\n",
      "50/50 [==============================] - 0s 2ms/step - loss: 3.0881 - accuracy: 0.9348 - val_loss: 19.3918 - val_accuracy: 0.8596\n",
      "Epoch 61/100\n",
      "38/50 [=====================>........] - ETA: 0s - loss: 3.6537 - accuracy: 0.9293\n",
      "Epoch 61: val_loss did not improve from 15.07132\n",
      "50/50 [==============================] - 0s 2ms/step - loss: 3.9072 - accuracy: 0.9253 - val_loss: 19.1523 - val_accuracy: 0.9045\n",
      "Epoch 62/100\n",
      "48/50 [===========================>..] - ETA: 0s - loss: 6.9924 - accuracy: 0.9049\n",
      "Epoch 62: val_loss did not improve from 15.07132\n",
      "50/50 [==============================] - 0s 2ms/step - loss: 6.8316 - accuracy: 0.9053 - val_loss: 41.4361 - val_accuracy: 0.7584\n",
      "Epoch 63/100\n",
      "44/50 [=========================>....] - ETA: 0s - loss: 4.1173 - accuracy: 0.9332 \n",
      "Epoch 63: val_loss did not improve from 15.07132\n",
      "50/50 [==============================] - 0s 2ms/step - loss: 3.7559 - accuracy: 0.9373 - val_loss: 20.1452 - val_accuracy: 0.8933\n",
      "Epoch 64/100\n",
      "48/50 [===========================>..] - ETA: 0s - loss: 4.0829 - accuracy: 0.9284\n",
      "Epoch 64: val_loss did not improve from 15.07132\n",
      "50/50 [==============================] - 0s 2ms/step - loss: 4.0357 - accuracy: 0.9291 - val_loss: 20.2452 - val_accuracy: 0.8933\n",
      "Epoch 65/100\n",
      "37/50 [=====================>........] - ETA: 0s - loss: 2.1953 - accuracy: 0.9535    \n",
      "Epoch 65: val_loss did not improve from 15.07132\n",
      "50/50 [==============================] - 0s 2ms/step - loss: 3.4333 - accuracy: 0.9391 - val_loss: 23.6109 - val_accuracy: 0.8315\n",
      "Epoch 66/100\n",
      "37/50 [=====================>........] - ETA: 0s - loss: 3.8335 - accuracy: 0.9341\n",
      "Epoch 66: val_loss did not improve from 15.07132\n",
      "50/50 [==============================] - 0s 2ms/step - loss: 3.8446 - accuracy: 0.9329 - val_loss: 16.2893 - val_accuracy: 0.8933\n",
      "Epoch 67/100\n",
      "48/50 [===========================>..] - ETA: 0s - loss: 3.6742 - accuracy: 0.9264\n",
      "Epoch 67: val_loss did not improve from 15.07132\n",
      "50/50 [==============================] - 0s 2ms/step - loss: 3.6656 - accuracy: 0.9247 - val_loss: 22.5069 - val_accuracy: 0.8820\n",
      "Epoch 68/100\n",
      " 1/50 [..............................] - ETA: 0s - loss: 3.1551 - accuracy: 0.9375\n",
      "Epoch 68: val_loss did not improve from 15.07132\n",
      "50/50 [==============================] - 0s 2ms/step - loss: 3.0904 - accuracy: 0.9467 - val_loss: 16.8284 - val_accuracy: 0.8933\n",
      "Epoch 69/100\n",
      "44/50 [=========================>....] - ETA: 0s - loss: 1.2834 - accuracy: 0.9652\n",
      "Epoch 69: val_loss did not improve from 15.07132\n",
      "50/50 [==============================] - 0s 2ms/step - loss: 1.3697 - accuracy: 0.9636 - val_loss: 25.7454 - val_accuracy: 0.8596\n",
      "Epoch 70/100\n",
      "45/50 [==========================>...] - ETA: 0s - loss: 6.4805 - accuracy: 0.9042\n",
      "Epoch 70: val_loss did not improve from 15.07132\n",
      "50/50 [==============================] - 0s 2ms/step - loss: 6.0409 - accuracy: 0.9084 - val_loss: 21.8836 - val_accuracy: 0.8539\n",
      "Epoch 71/100\n",
      "44/50 [=========================>....] - ETA: 0s - loss: 2.8278 - accuracy: 0.9510\n",
      "Epoch 71: val_loss did not improve from 15.07132\n",
      "50/50 [==============================] - 0s 2ms/step - loss: 2.5709 - accuracy: 0.9536 - val_loss: 23.4434 - val_accuracy: 0.8820\n",
      "Epoch 72/100\n",
      "42/50 [========================>.....] - ETA: 0s - loss: 1.4464 - accuracy: 0.9568\n",
      "Epoch 72: val_loss did not improve from 15.07132\n",
      "50/50 [==============================] - 0s 2ms/step - loss: 1.5416 - accuracy: 0.9586 - val_loss: 15.1955 - val_accuracy: 0.9101\n",
      "Epoch 73/100\n",
      "37/50 [=====================>........] - ETA: 0s - loss: 2.3253 - accuracy: 0.9468\n",
      "Epoch 73: val_loss did not improve from 15.07132\n",
      "50/50 [==============================] - 0s 2ms/step - loss: 2.8322 - accuracy: 0.9448 - val_loss: 15.1917 - val_accuracy: 0.8989\n",
      "Epoch 74/100\n",
      "49/50 [============================>.] - ETA: 0s - loss: 4.8838 - accuracy: 0.9190\n",
      "Epoch 74: val_loss did not improve from 15.07132\n",
      "50/50 [==============================] - 0s 2ms/step - loss: 4.8471 - accuracy: 0.9191 - val_loss: 22.8629 - val_accuracy: 0.8483\n",
      "Epoch 75/100\n",
      " 1/50 [..............................] - ETA: 0s - loss: 9.1302 - accuracy: 0.9375\n",
      "Epoch 75: val_loss did not improve from 15.07132\n",
      "50/50 [==============================] - 0s 2ms/step - loss: 3.3215 - accuracy: 0.9454 - val_loss: 31.6602 - val_accuracy: 0.8090\n",
      "Epoch 76/100\n",
      "42/50 [========================>.....] - ETA: 0s - loss: 8.2871 - accuracy: 0.9137 \n",
      "Epoch 76: val_loss did not improve from 15.07132\n",
      "50/50 [==============================] - 0s 2ms/step - loss: 7.7237 - accuracy: 0.9178 - val_loss: 20.4790 - val_accuracy: 0.8371\n",
      "Epoch 77/100\n",
      "38/50 [=====================>........] - ETA: 0s - loss: 4.6731 - accuracy: 0.9252\n",
      "Epoch 77: val_loss did not improve from 15.07132\n",
      "50/50 [==============================] - 0s 2ms/step - loss: 4.6022 - accuracy: 0.9197 - val_loss: 21.2161 - val_accuracy: 0.8202\n",
      "Epoch 78/100\n",
      "39/50 [======================>.......] - ETA: 0s - loss: 7.5643 - accuracy: 0.9030\n",
      "Epoch 78: val_loss did not improve from 15.07132\n",
      "50/50 [==============================] - 0s 2ms/step - loss: 6.8649 - accuracy: 0.9097 - val_loss: 31.0505 - val_accuracy: 0.8315\n",
      "Epoch 79/100\n",
      "48/50 [===========================>..] - ETA: 0s - loss: 5.3118 - accuracy: 0.9180\n",
      "Epoch 79: val_loss did not improve from 15.07132\n",
      "50/50 [==============================] - 0s 2ms/step - loss: 5.1372 - accuracy: 0.9203 - val_loss: 31.8157 - val_accuracy: 0.8371\n",
      "Epoch 80/100\n",
      "45/50 [==========================>...] - ETA: 0s - loss: 4.1900 - accuracy: 0.9312 \n",
      "Epoch 80: val_loss did not improve from 15.07132\n",
      "50/50 [==============================] - 0s 2ms/step - loss: 4.2753 - accuracy: 0.9322 - val_loss: 20.8809 - val_accuracy: 0.8989\n",
      "Epoch 81/100\n",
      "44/50 [=========================>....] - ETA: 0s - loss: 2.2889 - accuracy: 0.9482\n",
      "Epoch 81: val_loss did not improve from 15.07132\n",
      "50/50 [==============================] - 0s 2ms/step - loss: 2.5063 - accuracy: 0.9460 - val_loss: 27.5316 - val_accuracy: 0.8258\n",
      "Epoch 82/100\n",
      "50/50 [==============================] - ETA: 0s - loss: 7.4349 - accuracy: 0.9153 \n",
      "Epoch 82: val_loss did not improve from 15.07132\n",
      "50/50 [==============================] - 0s 2ms/step - loss: 7.4349 - accuracy: 0.9153 - val_loss: 36.2325 - val_accuracy: 0.7472\n",
      "Epoch 83/100\n",
      "50/50 [==============================] - ETA: 0s - loss: 7.4611 - accuracy: 0.9141 \n",
      "Epoch 83: val_loss did not improve from 15.07132\n",
      "50/50 [==============================] - 0s 2ms/step - loss: 7.4611 - accuracy: 0.9141 - val_loss: 28.7090 - val_accuracy: 0.8820\n",
      "Epoch 84/100\n",
      "48/50 [===========================>..] - ETA: 0s - loss: 1.3038 - accuracy: 0.9674    \n",
      "Epoch 84: val_loss did not improve from 15.07132\n",
      "50/50 [==============================] - 0s 2ms/step - loss: 1.3149 - accuracy: 0.9668 - val_loss: 17.4358 - val_accuracy: 0.8820\n",
      "Epoch 85/100\n",
      "39/50 [======================>.......] - ETA: 0s - loss: 1.8801 - accuracy: 0.9591    \n",
      "Epoch 85: val_loss did not improve from 15.07132\n",
      "50/50 [==============================] - 0s 2ms/step - loss: 1.8591 - accuracy: 0.9586 - val_loss: 22.8754 - val_accuracy: 0.8652\n",
      "Epoch 86/100\n",
      "42/50 [========================>.....] - ETA: 0s - loss: 1.5880 - accuracy: 0.9621\n",
      "Epoch 86: val_loss did not improve from 15.07132\n",
      "50/50 [==============================] - 0s 2ms/step - loss: 1.4111 - accuracy: 0.9630 - val_loss: 20.3410 - val_accuracy: 0.8989\n",
      "Epoch 87/100\n"
     ]
    },
    {
     "name": "stdout",
     "output_type": "stream",
     "text": [
      "43/50 [========================>.....] - ETA: 0s - loss: 1.4431 - accuracy: 0.9629\n",
      "Epoch 87: val_loss did not improve from 15.07132\n",
      "50/50 [==============================] - 0s 2ms/step - loss: 1.3330 - accuracy: 0.9649 - val_loss: 18.3163 - val_accuracy: 0.8764\n",
      "Epoch 88/100\n",
      "35/50 [====================>.........] - ETA: 0s - loss: 1.9648 - accuracy: 0.9661\n",
      "Epoch 88: val_loss did not improve from 15.07132\n",
      "50/50 [==============================] - 0s 2ms/step - loss: 1.7852 - accuracy: 0.9668 - val_loss: 17.0782 - val_accuracy: 0.8876\n",
      "Epoch 89/100\n",
      "39/50 [======================>.......] - ETA: 0s - loss: 1.6018 - accuracy: 0.9639\n",
      "Epoch 89: val_loss did not improve from 15.07132\n",
      "50/50 [==============================] - 0s 2ms/step - loss: 1.7396 - accuracy: 0.9617 - val_loss: 18.3051 - val_accuracy: 0.8989\n",
      "Epoch 90/100\n",
      "47/50 [===========================>..] - ETA: 0s - loss: 6.6557 - accuracy: 0.9169    \n",
      "Epoch 90: val_loss did not improve from 15.07132\n",
      "50/50 [==============================] - 0s 2ms/step - loss: 6.6476 - accuracy: 0.9184 - val_loss: 39.5840 - val_accuracy: 0.8202\n",
      "Epoch 91/100\n",
      "49/50 [============================>.] - ETA: 0s - loss: 5.0581 - accuracy: 0.9305\n",
      "Epoch 91: val_loss did not improve from 15.07132\n",
      "50/50 [==============================] - 0s 2ms/step - loss: 4.9756 - accuracy: 0.9316 - val_loss: 15.5476 - val_accuracy: 0.8933\n",
      "Epoch 92/100\n",
      "45/50 [==========================>...] - ETA: 0s - loss: 2.9655 - accuracy: 0.9590\n",
      "Epoch 92: val_loss did not improve from 15.07132\n",
      "50/50 [==============================] - 0s 2ms/step - loss: 2.7152 - accuracy: 0.9624 - val_loss: 24.9079 - val_accuracy: 0.8427\n",
      "Epoch 93/100\n",
      "44/50 [=========================>....] - ETA: 0s - loss: 4.6184 - accuracy: 0.9290\n",
      "Epoch 93: val_loss did not improve from 15.07132\n",
      "50/50 [==============================] - 0s 2ms/step - loss: 4.5320 - accuracy: 0.9279 - val_loss: 18.5623 - val_accuracy: 0.8764\n",
      "Epoch 94/100\n",
      "43/50 [========================>.....] - ETA: 0s - loss: 2.4116 - accuracy: 0.9571\n",
      "Epoch 94: val_loss did not improve from 15.07132\n",
      "50/50 [==============================] - 0s 2ms/step - loss: 2.3580 - accuracy: 0.9586 - val_loss: 18.7214 - val_accuracy: 0.8876\n",
      "Epoch 95/100\n",
      " 1/50 [..............................] - ETA: 0s - loss: 3.0118 - accuracy: 0.9688\n",
      "Epoch 95: val_loss did not improve from 15.07132\n",
      "50/50 [==============================] - 0s 1ms/step - loss: 2.1191 - accuracy: 0.9529 - val_loss: 22.0018 - val_accuracy: 0.8933\n",
      "Epoch 96/100\n",
      "40/50 [=======================>......] - ETA: 0s - loss: 3.8421 - accuracy: 0.9383\n",
      "Epoch 96: val_loss did not improve from 15.07132\n",
      "50/50 [==============================] - 0s 2ms/step - loss: 4.4217 - accuracy: 0.9310 - val_loss: 27.3996 - val_accuracy: 0.8202\n",
      "Epoch 97/100\n",
      "35/50 [====================>.........] - ETA: 0s - loss: 6.6465 - accuracy: 0.9196\n",
      "Epoch 97: val_loss did not improve from 15.07132\n",
      "50/50 [==============================] - 0s 2ms/step - loss: 6.1839 - accuracy: 0.9197 - val_loss: 23.7979 - val_accuracy: 0.8820\n",
      "Epoch 98/100\n",
      "48/50 [===========================>..] - ETA: 0s - loss: 1.6746 - accuracy: 0.9609\n",
      "Epoch 98: val_loss did not improve from 15.07132\n",
      "50/50 [==============================] - 0s 2ms/step - loss: 1.7357 - accuracy: 0.9605 - val_loss: 28.0818 - val_accuracy: 0.8483\n",
      "Epoch 99/100\n",
      " 1/50 [..............................] - ETA: 0s - loss: 10.2486 - accuracy: 0.9062\n",
      "Epoch 99: val_loss did not improve from 15.07132\n",
      "50/50 [==============================] - 0s 2ms/step - loss: 3.3903 - accuracy: 0.9479 - val_loss: 22.4038 - val_accuracy: 0.8483\n",
      "Epoch 100/100\n",
      "46/50 [==========================>...] - ETA: 0s - loss: 4.5838 - accuracy: 0.9327\n",
      "Epoch 100: val_loss did not improve from 15.07132\n",
      "50/50 [==============================] - 0s 2ms/step - loss: 4.4865 - accuracy: 0.9316 - val_loss: 20.4574 - val_accuracy: 0.8652\n",
      "Training completed in time:  0:00:09.810639\n"
     ]
    }
   ],
   "source": [
    "## Trianing my model\n",
    "from tensorflow.keras.callbacks import ModelCheckpoint\n",
    "from datetime import datetime \n",
    "\n",
    "num_epochs = 100\n",
    "num_batch_size = 32\n",
    "\n",
    "checkpointer = ModelCheckpoint(filepath='Desktop/sbvoicedb_RdLu8Y.hdf5', \n",
    "                               verbose=1, save_best_only=True)\n",
    "start = datetime.now()\n",
    "\n",
    "model.fit(X_train, y_train, batch_size=num_batch_size, epochs=num_epochs, validation_split=0.10, callbacks=[checkpointer], verbose=1)\n",
    "\n",
    "\n",
    "duration = datetime.now() - start\n",
    "print(\"Training completed in time: \", duration)"
   ]
  },
  {
   "cell_type": "code",
   "execution_count": 52,
   "metadata": {},
   "outputs": [
    {
     "name": "stdout",
     "output_type": "stream",
     "text": [
      "0.8716216087341309\n"
     ]
    }
   ],
   "source": [
    "test_accuracy=model.evaluate(X_test,y_test,verbose=0)\n",
    "print(test_accuracy[1])"
   ]
  },
  {
   "cell_type": "code",
   "execution_count": 53,
   "metadata": {},
   "outputs": [
    {
     "name": "stdout",
     "output_type": "stream",
     "text": [
      "(128,)\n"
     ]
    }
   ],
   "source": [
    "print(X_test[0].shape)"
   ]
  },
  {
   "cell_type": "code",
   "execution_count": 54,
   "metadata": {},
   "outputs": [
    {
     "name": "stdout",
     "output_type": "stream",
     "text": [
      "predicted label 0\n",
      "true label 0\n"
     ]
    }
   ],
   "source": [
    "y_pred=model.predict(X_test[0].reshape(-1,128))\n",
    "print(\"predicted label\",np.argmax(y_pred))\n",
    "print(\"true label\",np.argmax(y_test[0]))"
   ]
  },
  {
   "cell_type": "code",
   "execution_count": 55,
   "metadata": {},
   "outputs": [
    {
     "name": "stdout",
     "output_type": "stream",
     "text": [
      "Epoch 1/10\n",
      "56/56 [==============================] - 0s 2ms/step - loss: 12.1544 - accuracy: 0.8815 - val_loss: 31.1406 - val_accuracy: 0.8423\n",
      "Epoch 2/10\n",
      "56/56 [==============================] - 0s 2ms/step - loss: 13.0285 - accuracy: 0.8725 - val_loss: 23.6615 - val_accuracy: 0.8378\n",
      "Epoch 3/10\n",
      "56/56 [==============================] - 0s 2ms/step - loss: 9.3406 - accuracy: 0.8979 - val_loss: 18.2977 - val_accuracy: 0.8761\n",
      "Epoch 4/10\n",
      "56/56 [==============================] - 0s 2ms/step - loss: 2.6505 - accuracy: 0.9475 - val_loss: 13.9661 - val_accuracy: 0.8919\n",
      "Epoch 5/10\n",
      "56/56 [==============================] - 0s 2ms/step - loss: 2.3992 - accuracy: 0.9458 - val_loss: 20.0342 - val_accuracy: 0.8514\n",
      "Epoch 6/10\n",
      "56/56 [==============================] - 0s 2ms/step - loss: 3.9309 - accuracy: 0.9345 - val_loss: 15.4557 - val_accuracy: 0.8829\n",
      "Epoch 7/10\n",
      "56/56 [==============================] - 0s 2ms/step - loss: 5.9773 - accuracy: 0.9097 - val_loss: 17.5688 - val_accuracy: 0.8671\n",
      "Epoch 8/10\n",
      "56/56 [==============================] - 0s 2ms/step - loss: 3.2787 - accuracy: 0.9334 - val_loss: 15.4196 - val_accuracy: 0.9009\n",
      "Epoch 9/10\n",
      "56/56 [==============================] - 0s 2ms/step - loss: 3.4110 - accuracy: 0.9413 - val_loss: 13.6183 - val_accuracy: 0.8851\n",
      "Epoch 10/10\n",
      "56/56 [==============================] - 0s 1ms/step - loss: 3.0535 - accuracy: 0.9385 - val_loss: 10.8565 - val_accuracy: 0.8986\n"
     ]
    },
    {
     "data": {
      "image/png": "[encoded data removed]",
      "text/plain": [
       "<Figure size 1440x720 with 1 Axes>"
      ]
     },
     "metadata": {
      "needs_background": "light"
     },
     "output_type": "display_data"
    }
   ],
   "source": [
    "import matplotlib.pyplot as plt\n",
    "\n",
    "History = model.fit(X_train,y_train, epochs=10, validation_data=(X_test,y_test))\n",
    "fig = plt.figure(figsize=(20,10))\n",
    "plt.plot(History.history[\"accuracy\"])\n",
    "plt.xlabel('epoch', fontsize=15)\n",
    "plt.ylabel('acc', fontsize=15)\n",
    "\n",
    "fig.savefig('accuracy.pdf', bbox_inches='tight')\n"
   ]
  },
  {
   "cell_type": "code",
   "execution_count": null,
   "metadata": {},
   "outputs": [],
   "source": [
    "model.compile(loss='categorical_crossentropy',metrics=['accuracy'],optimizer='adam',metrics=[keras.metrics.Precision(), keras.metrics.Recall()])"
   ]
  }
 ],
 "metadata": {
  "kernelspec": {
   "display_name": "Python 3",
   "language": "python",
   "name": "python3"
  },
  "language_info": {
   "codemirror_mode": {
    "name": "ipython",
    "version": 3
   },
   "file_extension": ".py",
   "mimetype": "text/x-python",
   "name": "python",
   "nbconvert_exporter": "python",
   "pygments_lexer": "ipython3",
   "version": "3.9.1"
  }
 },
 "nbformat": 4,
 "nbformat_minor": 4
}
